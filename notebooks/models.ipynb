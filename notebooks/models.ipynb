{
 "cells": [
  {
   "cell_type": "code",
   "execution_count": 7,
   "id": "23255bca",
   "metadata": {},
   "outputs": [],
   "source": [
    "#https://www.geeksforgeeks.org/using-jupyter-notebook-in-virtual-environment/\n",
    "import pandas as pd\n",
    "import numpy as np\n",
    "import seaborn as sns\n",
    "import matplotlib.pyplot as plt\n",
    "from scipy import stats\n",
    "import random\n",
    "from sklearn.decomposition import PCA\n",
    "import plotly.express as px\n",
    "from sklearn import preprocessing\n",
    "from sklearn.preprocessing import MinMaxScaler, PowerTransformer\n",
    "from sklearn.cluster import KMeans\n",
    "from yellowbrick.cluster import InterclusterDistance, KElbowVisualizer, SilhouetteVisualizer"
   ]
  },
  {
   "cell_type": "markdown",
   "id": "4f419caa",
   "metadata": {},
   "source": [
    "# Plan for first iteration\n",
    "- Fit Gaussian mixture models on float variables\n",
    "    - Maybe try a model only with f_21 to f_28\n",
    "- Fit a k-means to the integer variables\n",
    "- Combine both model result using a standard ensemble algorithm\n",
    "    - Try using a similarity matrix: https://towardsdatascience.com/how-to-ensemble-clustering-algorithms-bf78d7602265\n",
    "- Repeat Using PCA\n",
    "    - It shouldn't be necessary to scale the variables I think, but keep in mind that I can be wrong."
   ]
  },
  {
   "cell_type": "code",
   "execution_count": 35,
   "id": "ca324fca",
   "metadata": {},
   "outputs": [
    {
     "data": {
      "text/plain": [
       "id        int64\n",
       "f_00    float64\n",
       "f_01    float64\n",
       "f_02    float64\n",
       "f_03    float64\n",
       "f_04    float64\n",
       "f_05    float64\n",
       "f_06    float64\n",
       "f_07      int64\n",
       "f_08      int64\n",
       "f_09      int64\n",
       "f_10      int64\n",
       "f_11      int64\n",
       "f_12      int64\n",
       "f_13      int64\n",
       "f_14    float64\n",
       "f_15    float64\n",
       "f_16    float64\n",
       "f_17    float64\n",
       "f_18    float64\n",
       "f_19    float64\n",
       "f_20    float64\n",
       "f_21    float64\n",
       "f_22    float64\n",
       "f_23    float64\n",
       "f_24    float64\n",
       "f_25    float64\n",
       "f_26    float64\n",
       "f_27    float64\n",
       "f_28    float64\n",
       "dtype: object"
      ]
     },
     "execution_count": 35,
     "metadata": {},
     "output_type": "execute_result"
    }
   ],
   "source": [
    "dtypes = {\n",
    "        'f_00':'float32',\n",
    "        'f_01': 'float32',\n",
    "        'f_02':'float32',\n",
    "        'f_03': 'float32',\n",
    "        'f_04':'float32',\n",
    "        'f_05': 'float32',\n",
    "        'f_06':'float32',\n",
    "        'f_07': 'int8',\n",
    "        'f_08':'int8',\n",
    "        'f_09': 'int8',\n",
    "        'f_10':'int8',\n",
    "        'f_11': 'int8',\n",
    "        'f_12':'int8',\n",
    "        'f_13': 'int8',\n",
    "        'f_14':'float32',\n",
    "        'f_15': 'float32',\n",
    "        'f_16':'float32',\n",
    "        'f_17': 'float32',\n",
    "        'f_18':'float32',\n",
    "        'f_19': 'float32',\n",
    "        'f_20':'float32',\n",
    "        'f_21': 'float32',\n",
    "        'f_22':'float32',\n",
    "        'f_23': 'float32',\n",
    "        'f_24':'float32',\n",
    "        'f_25': 'float32',\n",
    "        'f_26':'float32',\n",
    "        'f_27': 'float32',\n",
    "        'f_28':'float32',\n",
    "        'f_29': 'float32',\n",
    "         }\n",
    "df = pd.read_csv('../data/raw/data.csv')\n",
    "df.dtypes\n",
    "df = df.drop(['id'],axis=1)"
   ]
  },
  {
   "cell_type": "code",
   "execution_count": 9,
   "id": "44e1b9d7",
   "metadata": {},
   "outputs": [],
   "source": [
    "int_cols = []\n",
    "float_cols = []\n",
    "for c,t in zip([col for col in df.columns], [col for col in df.dtypes]):\n",
    "    if 'int' in str(t):\n",
    "        if str(c) != 'id':\n",
    "            int_cols.append(c)\n",
    "    elif 'float' in str(t):\n",
    "        float_cols.append(c)\n",
    "    else:\n",
    "        print(f'something went wrong for {c}')"
   ]
  },
  {
   "cell_type": "code",
   "execution_count": 10,
   "id": "a56d52a5",
   "metadata": {},
   "outputs": [],
   "source": [
    "# We expect f22 to f28, as well as all the integer cols to be the most important, therefore we set a boolean variable\n",
    "# for ease of use to indicate whether we want to use only these variables or not.\n",
    "use_important_cols_only = True\n",
    "important_float_cols = ['f_22', 'f_23', 'f_24', 'f_25', 'f_26', 'f_27', 'f_28']\n",
    "if use_important_cols_only:\n",
    "    df = df[int_cols + important_float_cols]\n",
    "else:\n",
    "    df = df[float_cols + int_cols]"
   ]
  },
  {
   "cell_type": "code",
   "execution_count": 11,
   "id": "2ffd644e",
   "metadata": {},
   "outputs": [],
   "source": [
    "def enrich_df_with_random_interactions(df):\n",
    "    cols = df.columns.tolist()\n",
    "    sample_list_1 = random.choices(cols,k= 50)\n",
    "    sample_list_2 = random.choices(cols,k= 50)\n",
    "    for col_1, col_2 in zip(sample_list_1, sample_list_2):\n",
    "        if col_1 == col_2:\n",
    "            continue\n",
    "        x = df[col_1] * df[col_2]\n",
    "\n",
    "        df[f'{col_1}*{col_2}'] = x\n",
    "    return df\n",
    "enrich_data=False\n",
    "if enrich_data:\n",
    "    enrich_df_with_random_interactions(df)"
   ]
  },
  {
   "cell_type": "code",
   "execution_count": 12,
   "id": "123b7a4e",
   "metadata": {},
   "outputs": [],
   "source": [
    "scale_data = True\n",
    "if scale_data:\n",
    "    scaler = PowerTransformer()\n",
    "    scaler.fit(df)\n",
    "    df_final = scaler.transform(df_final)"
   ]
  },
  {
   "cell_type": "code",
   "execution_count": 16,
   "id": "8cdcb7d6",
   "metadata": {},
   "outputs": [],
   "source": [
    "def plot_pca_variance(df):\n",
    "    pca = PCA()\n",
    "    pca.fit(df)\n",
    "    exp_var_cumul = np.cumsum(pca.explained_variance_ratio_)\n",
    "\n",
    "    return px.area(\n",
    "        x=range(1, exp_var_cumul.shape[0] + 1),\n",
    "        y=exp_var_cumul,\n",
    "        labels={\"x\": \"# Components\", \"y\": \"Explained Variance\"}\n",
    "    )\n",
    "apply_pca=False\n",
    "if apply_pca:\n",
    "    plot_pca_variance(df_final)"
   ]
  },
  {
   "cell_type": "code",
   "execution_count": 17,
   "id": "a2b8f514",
   "metadata": {},
   "outputs": [],
   "source": [
    "def get_pca_components(df, components):\n",
    "    pca = PCA(n_components=components)\n",
    "    components = pca.fit_transform(df)\n",
    "    return components\n",
    "if apply_pca:\n",
    "    components = 6\n",
    "    cols_selected = float_cols+int_cols\n",
    "    tst = get_pca_components(df_final[cols_selected], components)\n",
    "    col_list = [f'c_{i}' for i in range(0,components)]\n",
    "    df_final = pd.DataFrame(tst, columns=col_list)"
   ]
  },
  {
   "cell_type": "code",
   "execution_count": 18,
   "id": "67d95d1b",
   "metadata": {},
   "outputs": [
    {
     "name": "stderr",
     "output_type": "stream",
     "text": [
      "findfont: Font family ['sans-serif'] not found. Falling back to DejaVu Sans.\n",
      "findfont: Generic family 'sans-serif' not found because none of the following families were found: Arial, Liberation Sans, Bitstream Vera Sans, sans-serif\n",
      "findfont: Font family ['sans-serif'] not found. Falling back to DejaVu Sans.\n",
      "findfont: Generic family 'sans-serif' not found because none of the following families were found: Arial, Liberation Sans, Bitstream Vera Sans, sans-serif\n",
      "findfont: Font family ['sans-serif'] not found. Falling back to DejaVu Sans.\n",
      "findfont: Generic family 'sans-serif' not found because none of the following families were found: Arial, Liberation Sans, Bitstream Vera Sans, sans-serif\n"
     ]
    },
    {
     "data": {
      "image/png": "[encoded data removed]",
      "text/plain": [
       "<Figure size 432x288 with 2 Axes>"
      ]
     },
     "metadata": {},
     "output_type": "display_data"
    },
    {
     "data": {
      "text/plain": [
       "<AxesSubplot:title={'center':'Distortion Score Elbow for KMeans Clustering'}, xlabel='k', ylabel='distortion score'>"
      ]
     },
     "execution_count": 18,
     "metadata": {},
     "output_type": "execute_result"
    }
   ],
   "source": [
    "from sklearn.cluster import KMeans\n",
    "\n",
    "from yellowbrick.cluster import InterclusterDistance, KElbowVisualizer, SilhouetteVisualizer\n",
    "# Instantiate the clustering model and visualizer\n",
    "\n",
    "model = KMeans()\n",
    "visualizer = KElbowVisualizer(model, k=(4,12))\n",
    "\n",
    "visualizer.fit(df)    # Fit the data to the visualizer\n",
    "visualizer.show()    # Finalize and render the figure"
   ]
  },
  {
   "cell_type": "code",
   "execution_count": 19,
   "id": "5ca2bd3d",
   "metadata": {},
   "outputs": [
    {
     "name": "stdout",
     "output_type": "stream",
     "text": [
      "{'covariance_type': 'full'} scored 3679619.743606119\n",
      "covariance_type full has best score with 3679619.743606119 \n",
      "{'covariance_type': 'tied'} scored 3763828.083061296\n",
      "{'covariance_type': 'diag'} scored 3763775.5644152365\n",
      "{'covariance_type': 'spherical'} scored 3815106.627295143\n",
      "Winner is model with params {'covariance_type': 'full'} and bic: 3679619.743606119\n"
     ]
    }
   ],
   "source": [
    "from sklearn.mixture import GaussianMixture\n",
    "from sklearn.metrics import silhouette_score\n",
    "\n",
    "def fit_gmm(X, covariance_type):\n",
    "    gm = GaussianMixture(n_components=6,covariance_type=covariance_type, random_state=0).fit(X)\n",
    "    pred = gm.predict(X)\n",
    "    bic = gm.bic(X)\n",
    "    return bic\n",
    "\n",
    "def grid_search_gmm(df, verbose=True):\n",
    "    covariance_type_list = ['full', 'tied', 'diag', 'spherical']\n",
    "    result_list = {}\n",
    "    top_score = 1000000000\n",
    "    params = {}\n",
    "    best_params = params\n",
    "    for covariance_type in covariance_type_list:\n",
    "        X = df\n",
    "        score = fit_gmm(X, covariance_type)\n",
    "        result_list[covariance_type] = score\n",
    "        params = {'covariance_type': covariance_type}\n",
    "        if verbose:\n",
    "            print(f'{params} scored {score}')\n",
    "        if score <= top_score:\n",
    "            top_score = score\n",
    "            best_params = params\n",
    "            if verbose:\n",
    "                print(f'covariance_type {covariance_type} has best score with {top_score} ')\n",
    "    print(f'Winner is model with params {best_params} and bic: {top_score}')\n",
    "    return result_list\n",
    "result_list_float = grid_search_gmm(df_final)"
   ]
  },
  {
   "cell_type": "code",
   "execution_count": 20,
   "id": "409b13fb",
   "metadata": {},
   "outputs": [
    {
     "data": {
      "text/html": [
       "<style>#sk-container-id-1 {color: black;background-color: white;}#sk-container-id-1 pre{padding: 0;}#sk-container-id-1 div.sk-toggleable {background-color: white;}#sk-container-id-1 label.sk-toggleable__label {cursor: pointer;display: block;width: 100%;margin-bottom: 0;padding: 0.3em;box-sizing: border-box;text-align: center;}#sk-container-id-1 label.sk-toggleable__label-arrow:before {content: \"▸\";float: left;margin-right: 0.25em;color: #696969;}#sk-container-id-1 label.sk-toggleable__label-arrow:hover:before {color: black;}#sk-container-id-1 div.sk-estimator:hover label.sk-toggleable__label-arrow:before {color: black;}#sk-container-id-1 div.sk-toggleable__content {max-height: 0;max-width: 0;overflow: hidden;text-align: left;background-color: #f0f8ff;}#sk-container-id-1 div.sk-toggleable__content pre {margin: 0.2em;color: black;border-radius: 0.25em;background-color: #f0f8ff;}#sk-container-id-1 input.sk-toggleable__control:checked~div.sk-toggleable__content {max-height: 200px;max-width: 100%;overflow: auto;}#sk-container-id-1 input.sk-toggleable__control:checked~label.sk-toggleable__label-arrow:before {content: \"▾\";}#sk-container-id-1 div.sk-estimator input.sk-toggleable__control:checked~label.sk-toggleable__label {background-color: #d4ebff;}#sk-container-id-1 div.sk-label input.sk-toggleable__control:checked~label.sk-toggleable__label {background-color: #d4ebff;}#sk-container-id-1 input.sk-hidden--visually {border: 0;clip: rect(1px 1px 1px 1px);clip: rect(1px, 1px, 1px, 1px);height: 1px;margin: -1px;overflow: hidden;padding: 0;position: absolute;width: 1px;}#sk-container-id-1 div.sk-estimator {font-family: monospace;background-color: #f0f8ff;border: 1px dotted black;border-radius: 0.25em;box-sizing: border-box;margin-bottom: 0.5em;}#sk-container-id-1 div.sk-estimator:hover {background-color: #d4ebff;}#sk-container-id-1 div.sk-parallel-item::after {content: \"\";width: 100%;border-bottom: 1px solid gray;flex-grow: 1;}#sk-container-id-1 div.sk-label:hover label.sk-toggleable__label {background-color: #d4ebff;}#sk-container-id-1 div.sk-serial::before {content: \"\";position: absolute;border-left: 1px solid gray;box-sizing: border-box;top: 0;bottom: 0;left: 50%;z-index: 0;}#sk-container-id-1 div.sk-serial {display: flex;flex-direction: column;align-items: center;background-color: white;padding-right: 0.2em;padding-left: 0.2em;position: relative;}#sk-container-id-1 div.sk-item {position: relative;z-index: 1;}#sk-container-id-1 div.sk-parallel {display: flex;align-items: stretch;justify-content: center;background-color: white;position: relative;}#sk-container-id-1 div.sk-item::before, #sk-container-id-1 div.sk-parallel-item::before {content: \"\";position: absolute;border-left: 1px solid gray;box-sizing: border-box;top: 0;bottom: 0;left: 50%;z-index: -1;}#sk-container-id-1 div.sk-parallel-item {display: flex;flex-direction: column;z-index: 1;position: relative;background-color: white;}#sk-container-id-1 div.sk-parallel-item:first-child::after {align-self: flex-end;width: 50%;}#sk-container-id-1 div.sk-parallel-item:last-child::after {align-self: flex-start;width: 50%;}#sk-container-id-1 div.sk-parallel-item:only-child::after {width: 0;}#sk-container-id-1 div.sk-dashed-wrapped {border: 1px dashed gray;margin: 0 0.4em 0.5em 0.4em;box-sizing: border-box;padding-bottom: 0.4em;background-color: white;}#sk-container-id-1 div.sk-label label {font-family: monospace;font-weight: bold;display: inline-block;line-height: 1.2em;}#sk-container-id-1 div.sk-label-container {text-align: center;}#sk-container-id-1 div.sk-container {/* jupyter's `normalize.less` sets `[hidden] { display: none; }` but bootstrap.min.css set `[hidden] { display: none !important; }` so we also need the `!important` here to be able to override the default hidden behavior on the sphinx rendered scikit-learn.org. See: https://github.com/scikit-learn/scikit-learn/issues/21755 */display: inline-block !important;position: relative;}#sk-container-id-1 div.sk-text-repr-fallback {display: none;}</style><div id=\"sk-container-id-1\" class=\"sk-top-container\"><div class=\"sk-text-repr-fallback\"><pre>GaussianMixture(n_components=6, random_state=0)</pre><b>In a Jupyter environment, please rerun this cell to show the HTML representation or trust the notebook. <br />On GitHub, the HTML representation is unable to render, please try loading this page with nbviewer.org.</b></div><div class=\"sk-container\" hidden><div class=\"sk-item\"><div class=\"sk-estimator sk-toggleable\"><input class=\"sk-toggleable__control sk-hidden--visually\" id=\"sk-estimator-id-1\" type=\"checkbox\" checked><label for=\"sk-estimator-id-1\" class=\"sk-toggleable__label sk-toggleable__label-arrow\">GaussianMixture</label><div class=\"sk-toggleable__content\"><pre>GaussianMixture(n_components=6, random_state=0)</pre></div></div></div></div></div>"
      ],
      "text/plain": [
       "GaussianMixture(n_components=6, random_state=0)"
      ]
     },
     "execution_count": 20,
     "metadata": {},
     "output_type": "execute_result"
    }
   ],
   "source": [
    "gmm = GaussianMixture(n_components=6,covariance_type='full', random_state=0)\n",
    "gmm.fit(df_final)"
   ]
  },
  {
   "cell_type": "code",
   "execution_count": 21,
   "id": "e3bfdccb",
   "metadata": {},
   "outputs": [],
   "source": [
    "pred = gmm.predict(df_final)\n",
    "# submission_df = pd.DataFrame({'Id': df['id'].tolist(), 'Predicted': pred}).set_index('Id')\n",
    "# submission_df.to_csv('src/models/' + file_name)"
   ]
  },
  {
   "cell_type": "code",
   "execution_count": 24,
   "id": "e7d37acb",
   "metadata": {},
   "outputs": [
    {
     "ename": "AttributeError",
     "evalue": "'numpy.ndarray' object has no attribute 'reset_index'",
     "output_type": "error",
     "traceback": [
      "\u001b[0;31m---------------------------------------------------------------------------\u001b[0m",
      "\u001b[0;31mAttributeError\u001b[0m                            Traceback (most recent call last)",
      "Input \u001b[0;32mIn [24]\u001b[0m, in \u001b[0;36m<cell line: 1>\u001b[0;34m()\u001b[0m\n\u001b[0;32m----> 1\u001b[0m \u001b[43mdf\u001b[49m\u001b[38;5;241;43m.\u001b[39;49m\u001b[43mreset_index\u001b[49m()[\u001b[38;5;124m'\u001b[39m\u001b[38;5;124mindex\u001b[39m\u001b[38;5;124m'\u001b[39m]\u001b[38;5;241m.\u001b[39mtolist()\n",
      "\u001b[0;31mAttributeError\u001b[0m: 'numpy.ndarray' object has no attribute 'reset_index'"
     ]
    }
   ],
   "source": [
    "df.reset_index()['index'].tolist()"
   ]
  },
  {
   "cell_type": "code",
   "execution_count": 37,
   "id": "5b9ed825",
   "metadata": {},
   "outputs": [],
   "source": [
    "submissions_df = pd.DataFrame({'Id': [i for i in range(0, len(df_final))], 'Predicted': pred}).set_index('Id')"
   ]
  },
  {
   "cell_type": "code",
   "execution_count": 38,
   "id": "d0fcfe45",
   "metadata": {},
   "outputs": [],
   "source": [
    "submissions_df.to_csv('submission_i2.csv')"
   ]
  },
  {
   "cell_type": "code",
   "execution_count": null,
   "id": "befe8373",
   "metadata": {},
   "outputs": [],
   "source": []
  }
 ],
 "metadata": {
  "kernelspec": {
   "display_name": "venv",
   "language": "python",
   "name": "venv"
  },
  "language_info": {
   "codemirror_mode": {
    "name": "ipython",
    "version": 3
   },
   "file_extension": ".py",
   "mimetype": "text/x-python",
   "name": "python",
   "nbconvert_exporter": "python",
   "pygments_lexer": "ipython3",
   "version": "3.10.4"
  }
 },
 "nbformat": 4,
 "nbformat_minor": 5
}
